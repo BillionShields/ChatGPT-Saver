{
  "cells": [
    {
      "cell_type": "markdown",
      "metadata": {
        "id": "view-in-github",
        "colab_type": "text"
      },
      "source": [
        "<a href=\"https://colab.research.google.com/github/BillionShields/ChatGPT-Saver/blob/main/dust3r_gradio_jupyter.ipynb\" target=\"_parent\"><img src=\"https://colab.research.google.com/assets/colab-badge.svg\" alt=\"Open In Colab\"/></a>"
      ]
    },
    {
      "cell_type": "code",
      "execution_count": null,
      "metadata": {
        "id": "VjYy0F2gZIPR",
        "outputId": "2b04fb65-002d-4b7b-ea54-4f6f7c72954b",
        "colab": {
          "base_uri": "https://localhost:8080/"
        }
      },
      "outputs": [
        {
          "output_type": "stream",
          "name": "stdout",
          "text": [
            "/content\n",
            "Cloning into 'dust3r'...\n",
            "remote: Enumerating objects: 65, done.\u001b[K\n",
            "remote: Counting objects: 100% (11/11), done.\u001b[K\n",
            "remote: Compressing objects: 100% (7/7), done.\u001b[K\n",
            "remote: Total 65 (delta 6), reused 4 (delta 4), pack-reused 54\u001b[K\n",
            "Receiving objects: 100% (65/65), 567.31 KiB | 10.31 MiB/s, done.\n",
            "Resolving deltas: 100% (8/8), done.\n",
            "Submodule 'croco' (https://github.com/naver/croco) registered for path 'croco'\n",
            "Cloning into '/content/dust3r/croco'...\n",
            "remote: Enumerating objects: 119, done.        \n",
            "remote: Counting objects: 100% (119/119), done.        \n",
            "remote: Compressing objects: 100% (84/84), done.        \n",
            "remote: Total 119 (delta 47), reused 98 (delta 30), pack-reused 0        \n",
            "Receiving objects: 100% (119/119), 383.08 KiB | 7.23 MiB/s, done.\n",
            "Resolving deltas: 100% (47/47), done.\n",
            "Submodule path 'croco': checked out '743ee71a2a9bf57cea6832a9064a70a0597fcfcb'\n",
            "/content/dust3r\n",
            "\u001b[2K     \u001b[90m━━━━━━━━━━━━━━━━━━━━━━━━━━━━━━━━━━━━━━━━\u001b[0m \u001b[32m17.0/17.0 MB\u001b[0m \u001b[31m43.4 MB/s\u001b[0m eta \u001b[36m0:00:00\u001b[0m\n",
            "\u001b[2K     \u001b[90m━━━━━━━━━━━━━━━━━━━━━━━━━━━━━━━━━━━━━━━━\u001b[0m \u001b[32m44.6/44.6 kB\u001b[0m \u001b[31m2.2 MB/s\u001b[0m eta \u001b[36m0:00:00\u001b[0m\n",
            "\u001b[2K     \u001b[90m━━━━━━━━━━━━━━━━━━━━━━━━━━━━━━━━━━━━━━━━\u001b[0m \u001b[32m690.4/690.4 kB\u001b[0m \u001b[31m39.5 MB/s\u001b[0m eta \u001b[36m0:00:00\u001b[0m\n",
            "\u001b[2K     \u001b[90m━━━━━━━━━━━━━━━━━━━━━━━━━━━━━━━━━━━━━━━━\u001b[0m \u001b[32m92.1/92.1 kB\u001b[0m \u001b[31m8.6 MB/s\u001b[0m eta \u001b[36m0:00:00\u001b[0m\n",
            "\u001b[?25h  Preparing metadata (setup.py) ... \u001b[?25l\u001b[?25hdone\n",
            "\u001b[2K     \u001b[90m━━━━━━━━━━━━━━━━━━━━━━━━━━━━━━━━━━━━━━━━\u001b[0m \u001b[32m308.2/308.2 kB\u001b[0m \u001b[31m25.3 MB/s\u001b[0m eta \u001b[36m0:00:00\u001b[0m\n",
            "\u001b[2K     \u001b[90m━━━━━━━━━━━━━━━━━━━━━━━━━━━━━━━━━━━━━━━━\u001b[0m \u001b[32m75.6/75.6 kB\u001b[0m \u001b[31m7.5 MB/s\u001b[0m eta \u001b[36m0:00:00\u001b[0m\n",
            "\u001b[2K     \u001b[90m━━━━━━━━━━━━━━━━━━━━━━━━━━━━━━━━━━━━━━━━\u001b[0m \u001b[32m138.5/138.5 kB\u001b[0m \u001b[31m13.7 MB/s\u001b[0m eta \u001b[36m0:00:00\u001b[0m\n",
            "\u001b[2K     \u001b[90m━━━━━━━━━━━━━━━━━━━━━━━━━━━━━━━━━━━━━━━━\u001b[0m \u001b[32m7.8/7.8 MB\u001b[0m \u001b[31m38.5 MB/s\u001b[0m eta \u001b[36m0:00:00\u001b[0m\n",
            "\u001b[2K     \u001b[90m━━━━━━━━━━━━━━━━━━━━━━━━━━━━━━━━━━━━━━━━\u001b[0m \u001b[32m60.8/60.8 kB\u001b[0m \u001b[31m6.1 MB/s\u001b[0m eta \u001b[36m0:00:00\u001b[0m\n",
            "\u001b[2K     \u001b[90m━━━━━━━━━━━━━━━━━━━━━━━━━━━━━━━━━━━━━━━━\u001b[0m \u001b[32m129.9/129.9 kB\u001b[0m \u001b[31m12.5 MB/s\u001b[0m eta \u001b[36m0:00:00\u001b[0m\n",
            "\u001b[2K     \u001b[90m━━━━━━━━━━━━━━━━━━━━━━━━━━━━━━━━━━━━━━━━\u001b[0m \u001b[32m77.8/77.8 kB\u001b[0m \u001b[31m8.8 MB/s\u001b[0m eta \u001b[36m0:00:00\u001b[0m\n",
            "\u001b[2K     \u001b[90m━━━━━━━━━━━━━━━━━━━━━━━━━━━━━━━━━━━━━━━━\u001b[0m \u001b[32m58.3/58.3 kB\u001b[0m \u001b[31m6.9 MB/s\u001b[0m eta \u001b[36m0:00:00\u001b[0m\n",
            "\u001b[2K     \u001b[90m━━━━━━━━━━━━━━━━━━━━━━━━━━━━━━━━━━━━━━━━\u001b[0m \u001b[32m71.5/71.5 kB\u001b[0m \u001b[31m8.2 MB/s\u001b[0m eta \u001b[36m0:00:00\u001b[0m\n",
            "\u001b[?25h  Building wheel for ffmpy (setup.py) ... \u001b[?25l\u001b[?25hdone\n",
            "\u001b[2K     \u001b[90m━━━━━━━━━━━━━━━━━━━━━━━━━━━━━━━━━━━━━━━━\u001b[0m \u001b[32m2.6/2.6 MB\u001b[0m \u001b[31m12.3 MB/s\u001b[0m eta \u001b[36m0:00:00\u001b[0m\n",
            "\u001b[?25h--2024-03-06 21:37:17--  https://huggingface.co/camenduru/dust3r/resolve/main/DUSt3R_ViTLarge_BaseDecoder_512_dpt.pth\n",
            "Resolving huggingface.co (huggingface.co)... 65.8.178.12, 65.8.178.93, 65.8.178.27, ...\n",
            "Connecting to huggingface.co (huggingface.co)|65.8.178.12|:443... connected.\n",
            "HTTP request sent, awaiting response... 302 Found\n",
            "Location: https://cdn-lfs-us-1.huggingface.co/repos/b5/d6/b5d63e15c5cfe275ebb65becd192e55a63b10c13b0b229195881294c89f90974/5e8bbf0c4d1d6007f5343f3f45814b956ddc5bbb4d00cb66beaf73afe5c53b34?response-content-disposition=attachment%3B+filename*%3DUTF-8%27%27DUSt3R_ViTLarge_BaseDecoder_512_dpt.pth%3B+filename%3D%22DUSt3R_ViTLarge_BaseDecoder_512_dpt.pth%22%3B&Expires=1710020237&Policy=eyJTdGF0ZW1lbnQiOlt7IkNvbmRpdGlvbiI6eyJEYXRlTGVzc1RoYW4iOnsiQVdTOkVwb2NoVGltZSI6MTcxMDAyMDIzN319LCJSZXNvdXJjZSI6Imh0dHBzOi8vY2RuLWxmcy11cy0xLmh1Z2dpbmdmYWNlLmNvL3JlcG9zL2I1L2Q2L2I1ZDYzZTE1YzVjZmUyNzVlYmI2NWJlY2QxOTJlNTVhNjNiMTBjMTNiMGIyMjkxOTU4ODEyOTRjODlmOTA5NzQvNWU4YmJmMGM0ZDFkNjAwN2Y1MzQzZjNmNDU4MTRiOTU2ZGRjNWJiYjRkMDBjYjY2YmVhZjczYWZlNWM1M2IzND9yZXNwb25zZS1jb250ZW50LWRpc3Bvc2l0aW9uPSoifV19&Signature=f8yZqRCF0frrFx1-FHuQYbQ9AcxVpQuc7t7-Atn2Hn1tXvVDGmWwdGEZSEKOCZzRrVZCQqEKoAWwsN3ER6EjRES-knU9UGrUkBdG%7EolUQDONPwuO3i1FAJ2d2WVDqtdbm0ODFCeMLtsfaJkqpqPC6GYEr4ffsHtEzAbySuj5trZG5dZO8rJ0uVNL5oEbHkE3HZIUCytVaRlfKorqkF8t2%7EAaB23mk1jJ7gR-UwpwOUdWe4x8fJUdO5%7EhgtgFVJX5m3lP0APvKWtVGA4bNXR1Lt2npEC6XZnjx4UMgFHQNNZVSzSlNAtx4ct0NKPDHcAyb3PgKq9SwLF9Q6LfqLgc5A__&Key-Pair-Id=KCD77M1F0VK2B [following]\n",
            "--2024-03-06 21:37:17--  https://cdn-lfs-us-1.huggingface.co/repos/b5/d6/b5d63e15c5cfe275ebb65becd192e55a63b10c13b0b229195881294c89f90974/5e8bbf0c4d1d6007f5343f3f45814b956ddc5bbb4d00cb66beaf73afe5c53b34?response-content-disposition=attachment%3B+filename*%3DUTF-8%27%27DUSt3R_ViTLarge_BaseDecoder_512_dpt.pth%3B+filename%3D%22DUSt3R_ViTLarge_BaseDecoder_512_dpt.pth%22%3B&Expires=1710020237&Policy=eyJTdGF0ZW1lbnQiOlt7IkNvbmRpdGlvbiI6eyJEYXRlTGVzc1RoYW4iOnsiQVdTOkVwb2NoVGltZSI6MTcxMDAyMDIzN319LCJSZXNvdXJjZSI6Imh0dHBzOi8vY2RuLWxmcy11cy0xLmh1Z2dpbmdmYWNlLmNvL3JlcG9zL2I1L2Q2L2I1ZDYzZTE1YzVjZmUyNzVlYmI2NWJlY2QxOTJlNTVhNjNiMTBjMTNiMGIyMjkxOTU4ODEyOTRjODlmOTA5NzQvNWU4YmJmMGM0ZDFkNjAwN2Y1MzQzZjNmNDU4MTRiOTU2ZGRjNWJiYjRkMDBjYjY2YmVhZjczYWZlNWM1M2IzND9yZXNwb25zZS1jb250ZW50LWRpc3Bvc2l0aW9uPSoifV19&Signature=f8yZqRCF0frrFx1-FHuQYbQ9AcxVpQuc7t7-Atn2Hn1tXvVDGmWwdGEZSEKOCZzRrVZCQqEKoAWwsN3ER6EjRES-knU9UGrUkBdG%7EolUQDONPwuO3i1FAJ2d2WVDqtdbm0ODFCeMLtsfaJkqpqPC6GYEr4ffsHtEzAbySuj5trZG5dZO8rJ0uVNL5oEbHkE3HZIUCytVaRlfKorqkF8t2%7EAaB23mk1jJ7gR-UwpwOUdWe4x8fJUdO5%7EhgtgFVJX5m3lP0APvKWtVGA4bNXR1Lt2npEC6XZnjx4UMgFHQNNZVSzSlNAtx4ct0NKPDHcAyb3PgKq9SwLF9Q6LfqLgc5A__&Key-Pair-Id=KCD77M1F0VK2B\n",
            "Resolving cdn-lfs-us-1.huggingface.co (cdn-lfs-us-1.huggingface.co)... 13.249.98.99, 13.249.98.125, 13.249.98.111, ...\n",
            "Connecting to cdn-lfs-us-1.huggingface.co (cdn-lfs-us-1.huggingface.co)|13.249.98.99|:443... connected.\n",
            "HTTP request sent, awaiting response... 200 OK\n",
            "Length: 2285019929 (2.1G) [binary/octet-stream]\n",
            "Saving to: ‘/content/dust3r/checkpoints/DUSt3R_ViTLarge_BaseDecoder_512_dpt.pth’\n",
            "\n",
            "DUSt3R_ViTLarge_Bas 100%[===================>]   2.13G  49.9MB/s    in 49s     \n",
            "\n",
            "2024-03-06 21:38:07 (44.2 MB/s) - ‘/content/dust3r/checkpoints/DUSt3R_ViTLarge_BaseDecoder_512_dpt.pth’ saved [2285019929/2285019929]\n",
            "\n",
            "/content/dust3r\n",
            "... loading model from /content/dust3r/checkpoints/DUSt3R_ViTLarge_BaseDecoder_512_dpt.pth\n",
            "instantiating : AsymmetricCroCo3DStereo(enc_depth=24, dec_depth=12, enc_embed_dim=1024, dec_embed_dim=768, enc_num_heads=16, dec_num_heads=12, pos_embed='RoPE100', patch_embed_cls='PatchEmbedDust3R', img_size=(512, 512), head_type='dpt', output_mode='pts3d', depth_mode=('exp', -inf, inf), conf_mode=('exp', 1, inf), landscape_only=False)\n",
            "<All keys matched successfully>\n",
            "Outputing stuff in /tmp/tmpk6occvjodust3r_gradio_demo\n",
            "Running on local URL:  http://127.0.0.1:7860\n",
            "Running on public URL: https://0bd37c261255779fab.gradio.live\n",
            "\n",
            "This share link expires in 72 hours. For free permanent hosting and GPU upgrades, run `gradio deploy` from Terminal to deploy to Spaces (https://huggingface.co/spaces)\n",
            ">> Loading a list of 1 images\n",
            " - adding /tmp/gradio/c718f2cf1ea150165f0919a8a796c543a18680d4/A Blossoms Tale 2.png with resolution 1200x628 --> 512x256\n",
            " (Found 1 images)\n",
            ">> Inference with model on 2 image pairs\n",
            "100% 2/2 [00:02<00:00,  1.17s/it]\n",
            "  - conf=5.1 for edge 0-1\n",
            "  - conf=5.1 for edge 1-0\n",
            "(exporting 3D scene to /tmp/tmpk6occvjodust3r_gradio_demo/scene.glb )\n"
          ]
        }
      ],
      "source": [
        "%cd /content\n",
        "!git clone -b dev --recursive https://github.com/camenduru/dust3r\n",
        "%cd /content/dust3r\n",
        "\n",
        "!pip install -q roma gradio einops trimesh\n",
        "!pip install -q https://github.com/camenduru/wheels/releases/download/colab/curope-0.0.0-cp310-cp310-linux_x86_64.whl\n",
        "\n",
        "!mkdir -p /content/dust3r/checkpoints\n",
        "!wget https://huggingface.co/camenduru/dust3r/resolve/main/DUSt3R_ViTLarge_BaseDecoder_512_dpt.pth -P /content/dust3r/checkpoints\n",
        "\n",
        "%cd /content/dust3r\n",
        "!python demo.py --weights /content/dust3r/checkpoints/DUSt3R_ViTLarge_BaseDecoder_512_dpt.pth"
      ]
    }
  ],
  "metadata": {
    "accelerator": "GPU",
    "colab": {
      "gpuType": "T4",
      "provenance": [],
      "include_colab_link": true
    },
    "kernelspec": {
      "display_name": "Python 3",
      "name": "python3"
    },
    "language_info": {
      "name": "python"
    }
  },
  "nbformat": 4,
  "nbformat_minor": 0
}